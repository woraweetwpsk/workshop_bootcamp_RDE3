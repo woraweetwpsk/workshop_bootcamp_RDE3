{
 "cells": [
  {
   "cell_type": "code",
   "execution_count": 102,
   "id": "6064e4c6-49ba-47a9-a5c2-c4de4e489b77",
   "metadata": {},
   "outputs": [],
   "source": [
    "import pandas as pd\n",
    "from pyspark.sql import SparkSession,functions\n",
    "from pyspark.sql.functions import when,col,sum\n",
    "import seaborn as sns"
   ]
  },
  {
   "cell_type": "code",
   "execution_count": 6,
   "id": "7e606def-048f-4b65-b5fb-00b5837bc744",
   "metadata": {},
   "outputs": [],
   "source": [
    "spark = SparkSession.builder.appName(\"Data Cleansing\").getOrCreate()"
   ]
  },
  {
   "cell_type": "code",
   "execution_count": 11,
   "id": "a6428701-27a1-4ef9-835d-36b3f78ec287",
   "metadata": {},
   "outputs": [
    {
     "name": "stdout",
     "output_type": "stream",
     "text": [
      "+--------------+----------+----------+-----+--------+-----------+--------------------+----------------+-------------+------------------+------------------+\n",
      "|transaction_id|      date|product_id|price|quantity|customer_id|        product_name|customer_country|customer_name|      total_amount|        thb_amount|\n",
      "+--------------+----------+----------+-----+--------+-----------+--------------------+----------------+-------------+------------------+------------------+\n",
      "|        581482|2024-05-10|     22485|21.47|      12|    17490.0|Set Of 2 Wooden M...|  United Kingdom| Sara Griffin|            257.64|        11792.1828|\n",
      "|        581475|2024-05-10|     22596|10.65|      36|    13069.0|Christmas Star Wi...|  United Kingdom| Michael Holt|383.40000000000003|17548.218000000004|\n",
      "|        581475|2024-05-10|     23235|11.53|      12|    13069.0|Storage Tin Vinta...|  United Kingdom| Michael Holt|138.35999999999999|         6332.7372|\n",
      "|        581475|2024-05-10|     23272|10.65|      12|    13069.0|Tree T-Light Hold...|  United Kingdom| Michael Holt|127.80000000000001| 5849.406000000001|\n",
      "|        581475|2024-05-10|     23239|11.94|       6|    13069.0|Set Of 4 Knick Kn...|  United Kingdom| Michael Holt|             71.64|3278.9628000000002|\n",
      "|        581475|2024-05-10|     21705|10.65|      24|    13069.0|Bag 500g Swirly M...|  United Kingdom| Michael Holt|255.60000000000002|11698.812000000002|\n",
      "|        581475|2024-05-10|     22118|11.53|      18|    13069.0|Joy Wooden Block ...|  United Kingdom| Michael Holt|            207.54| 9499.105800000001|\n",
      "|        581475|2024-05-10|     22119|12.25|      12|    13069.0|Peace Wooden Bloc...|  United Kingdom| Michael Holt|             147.0|6728.1900000000005|\n",
      "|        581475|2024-05-10|     22217|10.65|      12|    13069.0|T-Light Holder Ha...|  United Kingdom| Michael Holt|127.80000000000001| 5849.406000000001|\n",
      "|        581475|2024-05-10|     22216|10.55|      24|    13069.0|T-Light Holder Wh...|  United Kingdom| Michael Holt|253.20000000000002|11588.964000000002|\n",
      "+--------------+----------+----------+-----+--------+-----------+--------------------+----------------+-------------+------------------+------------------+\n",
      "only showing top 10 rows\n",
      "\n"
     ]
    }
   ],
   "source": [
    "dt = spark.read.parquet('w2_input.parquet')\n",
    "dt.show(10)"
   ]
  },
  {
   "cell_type": "markdown",
   "id": "624565be-5086-4064-96a6-682de389028a",
   "metadata": {},
   "source": [
    "Data Cleansing With Pyspark"
   ]
  },
  {
   "cell_type": "markdown",
   "id": "7517d69a-5e4a-4842-ae29-7d5bb1d0520e",
   "metadata": {},
   "source": [
    "Check Data type"
   ]
  },
  {
   "cell_type": "code",
   "execution_count": 22,
   "id": "56bd7683-9cda-4ea0-81a4-49d6e89b138a",
   "metadata": {},
   "outputs": [
    {
     "name": "stdout",
     "output_type": "stream",
     "text": [
      "root\n",
      " |-- transaction_id: string (nullable = true)\n",
      " |-- date: string (nullable = true)\n",
      " |-- product_id: string (nullable = true)\n",
      " |-- price: double (nullable = true)\n",
      " |-- quantity: long (nullable = true)\n",
      " |-- customer_id: double (nullable = true)\n",
      " |-- product_name: string (nullable = true)\n",
      " |-- customer_country: string (nullable = true)\n",
      " |-- customer_name: string (nullable = true)\n",
      " |-- total_amount: double (nullable = true)\n",
      " |-- thb_amount: double (nullable = true)\n",
      "\n"
     ]
    }
   ],
   "source": [
    "dt.printSchema()"
   ]
  },
  {
   "cell_type": "code",
   "execution_count": 23,
   "id": "3f052ae0-97fd-490a-8983-60f93da3cf50",
   "metadata": {},
   "outputs": [
    {
     "name": "stdout",
     "output_type": "stream",
     "text": [
      "+----------+\n",
      "|      date|\n",
      "+----------+\n",
      "|2024-05-10|\n",
      "|2024-05-10|\n",
      "|2024-05-10|\n",
      "|2024-05-10|\n",
      "|2024-05-10|\n",
      "|2024-05-10|\n",
      "|2024-05-10|\n",
      "|2024-05-10|\n",
      "|2024-05-10|\n",
      "|2024-05-10|\n",
      "+----------+\n",
      "only showing top 10 rows\n",
      "\n"
     ]
    }
   ],
   "source": [
    "dt.select(\"date\").show(10)"
   ]
  },
  {
   "cell_type": "markdown",
   "id": "7b18caea-0e5b-4ce7-bcbf-08f780a753cb",
   "metadata": {},
   "source": [
    "Change Data type Column \"date\" : str => datatime"
   ]
  },
  {
   "cell_type": "code",
   "execution_count": 28,
   "id": "5c9a290c-99e0-409f-9035-0048da0df989",
   "metadata": {},
   "outputs": [
    {
     "name": "stdout",
     "output_type": "stream",
     "text": [
      "+--------------+-------------------+----------+-----+--------+-----------+--------------------+----------------+-------------+------------------+------------------+\n",
      "|transaction_id|               date|product_id|price|quantity|customer_id|        product_name|customer_country|customer_name|      total_amount|        thb_amount|\n",
      "+--------------+-------------------+----------+-----+--------+-----------+--------------------+----------------+-------------+------------------+------------------+\n",
      "|        581482|2024-05-10 00:00:00|     22485|21.47|      12|    17490.0|Set Of 2 Wooden M...|  United Kingdom| Sara Griffin|            257.64|        11792.1828|\n",
      "|        581475|2024-05-10 00:00:00|     22596|10.65|      36|    13069.0|Christmas Star Wi...|  United Kingdom| Michael Holt|383.40000000000003|17548.218000000004|\n",
      "|        581475|2024-05-10 00:00:00|     23235|11.53|      12|    13069.0|Storage Tin Vinta...|  United Kingdom| Michael Holt|138.35999999999999|         6332.7372|\n",
      "|        581475|2024-05-10 00:00:00|     23272|10.65|      12|    13069.0|Tree T-Light Hold...|  United Kingdom| Michael Holt|127.80000000000001| 5849.406000000001|\n",
      "|        581475|2024-05-10 00:00:00|     23239|11.94|       6|    13069.0|Set Of 4 Knick Kn...|  United Kingdom| Michael Holt|             71.64|3278.9628000000002|\n",
      "|        581475|2024-05-10 00:00:00|     21705|10.65|      24|    13069.0|Bag 500g Swirly M...|  United Kingdom| Michael Holt|255.60000000000002|11698.812000000002|\n",
      "|        581475|2024-05-10 00:00:00|     22118|11.53|      18|    13069.0|Joy Wooden Block ...|  United Kingdom| Michael Holt|            207.54| 9499.105800000001|\n",
      "|        581475|2024-05-10 00:00:00|     22119|12.25|      12|    13069.0|Peace Wooden Bloc...|  United Kingdom| Michael Holt|             147.0|6728.1900000000005|\n",
      "|        581475|2024-05-10 00:00:00|     22217|10.65|      12|    13069.0|T-Light Holder Ha...|  United Kingdom| Michael Holt|127.80000000000001| 5849.406000000001|\n",
      "|        581475|2024-05-10 00:00:00|     22216|10.55|      24|    13069.0|T-Light Holder Wh...|  United Kingdom| Michael Holt|253.20000000000002|11588.964000000002|\n",
      "|        581475|2024-05-10 00:00:00|     22380|11.06|      20|    13069.0|   Toy Tidy Spaceboy|  United Kingdom| Michael Holt|221.20000000000002|10124.324000000002|\n",
      "|        581475|2024-05-10 00:00:00|     22442|12.25|      12|    13069.0|Grow Your Own Flo...|  United Kingdom| Michael Holt|             147.0|6728.1900000000005|\n",
      "|        581475|2024-05-10 00:00:00|     22664|11.06|      20|    13069.0|Toy Tidy Dolly Gi...|  United Kingdom| Michael Holt|221.20000000000002|10124.324000000002|\n",
      "|        581475|2024-05-10 00:00:00|     22721|12.25|      12|    13069.0|Set Of 3 Cake Tin...|  United Kingdom| Michael Holt|             147.0|6728.1900000000005|\n",
      "|        581475|2024-05-10 00:00:00|     22723|11.53|      12|    13069.0|Set Of 6 Herb Tin...|  United Kingdom| Michael Holt|138.35999999999999|         6332.7372|\n",
      "|        581475|2024-05-10 00:00:00|     22785|11.53|      12|    13069.0|Squarecushion Cov...|  United Kingdom| Michael Holt|138.35999999999999|         6332.7372|\n",
      "|        581475|2024-05-10 00:00:00|     22955|11.06|      24|    13069.0|36 Foil Star Cake...|  United Kingdom| Michael Holt|            265.44|        12149.1888|\n",
      "|        581475|2024-05-10 00:00:00|     23141|11.06|      12|    13069.0|Triple Wire Hook ...|  United Kingdom| Michael Holt|            132.72|         6074.5944|\n",
      "|        581475|2024-05-10 00:00:00|     22956|11.06|      24|    13069.0|36 Foil Heart Cak...|  United Kingdom| Michael Holt|            265.44|        12149.1888|\n",
      "|        581475|2024-05-10 00:00:00|     22581|10.55|      48|    13069.0|Wood Stocking Chr...|  United Kingdom| Michael Holt|506.40000000000003|23177.928000000004|\n",
      "+--------------+-------------------+----------+-----+--------+-----------+--------------------+----------------+-------------+------------------+------------------+\n",
      "only showing top 20 rows\n",
      "\n"
     ]
    }
   ],
   "source": [
    "dt_clean = dt.withColumn(\"date\",\n",
    "                         functions.to_timestamp(dt.date,'yyyy-MM-dd')\n",
    "                        )\n",
    "dt_clean.show()\n",
    "                         "
   ]
  },
  {
   "cell_type": "code",
   "execution_count": 29,
   "id": "2c7ce147-9210-43fa-b627-80bdc67cd736",
   "metadata": {},
   "outputs": [
    {
     "name": "stdout",
     "output_type": "stream",
     "text": [
      "+-------------------+-------------------+\n",
      "|          min(date)|          max(date)|\n",
      "+-------------------+-------------------+\n",
      "|2023-05-03 00:00:00|2024-05-10 00:00:00|\n",
      "+-------------------+-------------------+\n",
      "\n"
     ]
    }
   ],
   "source": [
    "#Recheck min,max ว่าเปลี่ยนข้อมูลครบไหม\n",
    "dt_clean.select(functions.min(dt_clean.date),functions.max(dt_clean.date)).show()"
   ]
  },
  {
   "cell_type": "code",
   "execution_count": 30,
   "id": "871e3f36-3f29-4dcd-a181-fd2669208000",
   "metadata": {},
   "outputs": [
    {
     "name": "stdout",
     "output_type": "stream",
     "text": [
      "root\n",
      " |-- transaction_id: string (nullable = true)\n",
      " |-- date: timestamp (nullable = true)\n",
      " |-- product_id: string (nullable = true)\n",
      " |-- price: double (nullable = true)\n",
      " |-- quantity: long (nullable = true)\n",
      " |-- customer_id: double (nullable = true)\n",
      " |-- product_name: string (nullable = true)\n",
      " |-- customer_country: string (nullable = true)\n",
      " |-- customer_name: string (nullable = true)\n",
      " |-- total_amount: double (nullable = true)\n",
      " |-- thb_amount: double (nullable = true)\n",
      "\n"
     ]
    }
   ],
   "source": [
    "dt_clean.printSchema()"
   ]
  },
  {
   "cell_type": "markdown",
   "id": "79e19210-e45f-4e5b-9256-98a87b5233ce",
   "metadata": {},
   "source": [
    "Anomalies Check"
   ]
  },
  {
   "cell_type": "code",
   "execution_count": 33,
   "id": "0cbaa8ff-3143-465d-8676-65d8b801338a",
   "metadata": {},
   "outputs": [
    {
     "data": {
      "text/plain": [
       "39"
      ]
     },
     "execution_count": 33,
     "metadata": {},
     "output_type": "execute_result"
    }
   ],
   "source": [
    "#Syntactical Anomalies\n",
    "dt_clean.select(\"customer_country\").distinct().count()"
   ]
  },
  {
   "cell_type": "code",
   "execution_count": 35,
   "id": "f8f18b98-b6e8-4b3a-bbf1-f8633a33ad7d",
   "metadata": {},
   "outputs": [
    {
     "name": "stdout",
     "output_type": "stream",
     "text": [
      "+--------------------+\n",
      "|    customer_country|\n",
      "+--------------------+\n",
      "|           Australia|\n",
      "|             Austria|\n",
      "|             Bahrain|\n",
      "|             Belgium|\n",
      "|              Brazil|\n",
      "|              Canada|\n",
      "|     Channel Islands|\n",
      "|              Cyprus|\n",
      "|      Czech Republic|\n",
      "|             Denmark|\n",
      "|                EIRE|\n",
      "|  European Community|\n",
      "|             Finland|\n",
      "|              France|\n",
      "|             Germany|\n",
      "|              Greece|\n",
      "|           Hong Kong|\n",
      "|             Iceland|\n",
      "|              Israel|\n",
      "|               Italy|\n",
      "|               Japan|\n",
      "|              Japane|\n",
      "|             Lebanon|\n",
      "|           Lithuania|\n",
      "|               Malta|\n",
      "|         Netherlands|\n",
      "|              Norway|\n",
      "|              Poland|\n",
      "|            Portugal|\n",
      "|                 RSA|\n",
      "|        Saudi Arabia|\n",
      "|           Singapore|\n",
      "|               Spain|\n",
      "|              Sweden|\n",
      "|         Switzerland|\n",
      "|                 USA|\n",
      "|United Arab Emirates|\n",
      "|      United Kingdom|\n",
      "|         Unspecified|\n",
      "+--------------------+\n",
      "\n"
     ]
    }
   ],
   "source": [
    "dt_clean.select(\"customer_country\").distinct().sort(\"customer_country\").show(39)"
   ]
  },
  {
   "cell_type": "code",
   "execution_count": 40,
   "id": "3ab6f1ad-0542-42dd-b980-5cf4d12ffdc9",
   "metadata": {},
   "outputs": [
    {
     "name": "stdout",
     "output_type": "stream",
     "text": [
      "+--------------+-------------------+----------+-----+--------+-----------+--------------------+----------------+-------------+------------+-----------+\n",
      "|transaction_id|               date|product_id|price|quantity|customer_id|        product_name|customer_country|customer_name|total_amount| thb_amount|\n",
      "+--------------+-------------------+----------+-----+--------+-----------+--------------------+----------------+-------------+------------+-----------+\n",
      "|        566623|2024-02-14 00:00:00|     21787|11.12|      72|    12756.0|Rain Poncho Retro...|          Japane|    Troy Ball|      800.64|36331.44192|\n",
      "|        566623|2024-02-14 00:00:00|     21786|10.68|      24|    12756.0|   Polkadot Rain Hat|          Japane|    Troy Ball|      256.32|11631.28896|\n",
      "|        566623|2024-02-14 00:00:00|     21789|11.12|      24|    12756.0|  Kids Rain Mac Pink|          Japane|    Troy Ball|      266.88|12110.48064|\n",
      "|        566623|2024-02-14 00:00:00|     21788|11.12|      24|    12756.0|  Kids Rain Mac Blue|          Japane|    Troy Ball|      266.88|12110.48064|\n",
      "+--------------+-------------------+----------+-----+--------+-----------+--------------------+----------------+-------------+------------+-----------+\n",
      "\n"
     ]
    }
   ],
   "source": [
    "dt_clean.where(dt_clean[\"customer_country\"] == \"Japane\").show()"
   ]
  },
  {
   "cell_type": "code",
   "execution_count": 51,
   "id": "424bc4cb-7558-4425-be2e-7f995a8954fe",
   "metadata": {},
   "outputs": [
    {
     "name": "stdout",
     "output_type": "stream",
     "text": [
      "+-----------------------+\n",
      "|customer_country_update|\n",
      "+-----------------------+\n",
      "|              Australia|\n",
      "|                Austria|\n",
      "|                Bahrain|\n",
      "|                Belgium|\n",
      "|                 Brazil|\n",
      "|                 Canada|\n",
      "|        Channel Islands|\n",
      "|                 Cyprus|\n",
      "|         Czech Republic|\n",
      "|                Denmark|\n",
      "|                   EIRE|\n",
      "|     European Community|\n",
      "|                Finland|\n",
      "|                 France|\n",
      "|                Germany|\n",
      "|                 Greece|\n",
      "|              Hong Kong|\n",
      "|                Iceland|\n",
      "|                 Israel|\n",
      "|                  Italy|\n",
      "|                  Japan|\n",
      "|                Lebanon|\n",
      "|              Lithuania|\n",
      "|                  Malta|\n",
      "|            Netherlands|\n",
      "|                 Norway|\n",
      "|                 Poland|\n",
      "|               Portugal|\n",
      "|                    RSA|\n",
      "|           Saudi Arabia|\n",
      "|              Singapore|\n",
      "|                  Spain|\n",
      "|                 Sweden|\n",
      "|            Switzerland|\n",
      "|                    USA|\n",
      "|   United Arab Emirates|\n",
      "|         United Kingdom|\n",
      "|            Unspecified|\n",
      "+-----------------------+\n",
      "\n"
     ]
    }
   ],
   "source": [
    "dt_clean_country = dt_clean.withColumn(\"customer_country_update\", when(dt_clean[\"customer_country\"] == \"Japane\", \"Japan\").otherwise(dt_clean[\"customer_country\"]))\n",
    "dt_clean_country.select(\"customer_country_update\").distinct().sort(\"customer_country_update\").show(40)"
   ]
  },
  {
   "cell_type": "code",
   "execution_count": 54,
   "id": "ac86f412-a720-4b17-b36a-2f40c889a650",
   "metadata": {},
   "outputs": [
    {
     "name": "stdout",
     "output_type": "stream",
     "text": [
      "+--------------+-------------------+----------+-----+--------+-----------+--------------------+-------------+------------------+------------------+----------------+\n",
      "|transaction_id|               date|product_id|price|quantity|customer_id|        product_name|customer_name|      total_amount|        thb_amount|customer_country|\n",
      "+--------------+-------------------+----------+-----+--------+-----------+--------------------+-------------+------------------+------------------+----------------+\n",
      "|        581482|2024-05-10 00:00:00|     22485|21.47|      12|    17490.0|Set Of 2 Wooden M...| Sara Griffin|            257.64|        11792.1828|  United Kingdom|\n",
      "|        581475|2024-05-10 00:00:00|     22596|10.65|      36|    13069.0|Christmas Star Wi...| Michael Holt|383.40000000000003|17548.218000000004|  United Kingdom|\n",
      "|        581475|2024-05-10 00:00:00|     23235|11.53|      12|    13069.0|Storage Tin Vinta...| Michael Holt|138.35999999999999|         6332.7372|  United Kingdom|\n",
      "|        581475|2024-05-10 00:00:00|     23272|10.65|      12|    13069.0|Tree T-Light Hold...| Michael Holt|127.80000000000001| 5849.406000000001|  United Kingdom|\n",
      "|        581475|2024-05-10 00:00:00|     23239|11.94|       6|    13069.0|Set Of 4 Knick Kn...| Michael Holt|             71.64|3278.9628000000002|  United Kingdom|\n",
      "|        581475|2024-05-10 00:00:00|     21705|10.65|      24|    13069.0|Bag 500g Swirly M...| Michael Holt|255.60000000000002|11698.812000000002|  United Kingdom|\n",
      "|        581475|2024-05-10 00:00:00|     22118|11.53|      18|    13069.0|Joy Wooden Block ...| Michael Holt|            207.54| 9499.105800000001|  United Kingdom|\n",
      "|        581475|2024-05-10 00:00:00|     22119|12.25|      12|    13069.0|Peace Wooden Bloc...| Michael Holt|             147.0|6728.1900000000005|  United Kingdom|\n",
      "|        581475|2024-05-10 00:00:00|     22217|10.65|      12|    13069.0|T-Light Holder Ha...| Michael Holt|127.80000000000001| 5849.406000000001|  United Kingdom|\n",
      "|        581475|2024-05-10 00:00:00|     22216|10.55|      24|    13069.0|T-Light Holder Wh...| Michael Holt|253.20000000000002|11588.964000000002|  United Kingdom|\n",
      "|        581475|2024-05-10 00:00:00|     22380|11.06|      20|    13069.0|   Toy Tidy Spaceboy| Michael Holt|221.20000000000002|10124.324000000002|  United Kingdom|\n",
      "|        581475|2024-05-10 00:00:00|     22442|12.25|      12|    13069.0|Grow Your Own Flo...| Michael Holt|             147.0|6728.1900000000005|  United Kingdom|\n",
      "|        581475|2024-05-10 00:00:00|     22664|11.06|      20|    13069.0|Toy Tidy Dolly Gi...| Michael Holt|221.20000000000002|10124.324000000002|  United Kingdom|\n",
      "|        581475|2024-05-10 00:00:00|     22721|12.25|      12|    13069.0|Set Of 3 Cake Tin...| Michael Holt|             147.0|6728.1900000000005|  United Kingdom|\n",
      "|        581475|2024-05-10 00:00:00|     22723|11.53|      12|    13069.0|Set Of 6 Herb Tin...| Michael Holt|138.35999999999999|         6332.7372|  United Kingdom|\n",
      "|        581475|2024-05-10 00:00:00|     22785|11.53|      12|    13069.0|Squarecushion Cov...| Michael Holt|138.35999999999999|         6332.7372|  United Kingdom|\n",
      "|        581475|2024-05-10 00:00:00|     22955|11.06|      24|    13069.0|36 Foil Star Cake...| Michael Holt|            265.44|        12149.1888|  United Kingdom|\n",
      "|        581475|2024-05-10 00:00:00|     23141|11.06|      12|    13069.0|Triple Wire Hook ...| Michael Holt|            132.72|         6074.5944|  United Kingdom|\n",
      "|        581475|2024-05-10 00:00:00|     22956|11.06|      24|    13069.0|36 Foil Heart Cak...| Michael Holt|            265.44|        12149.1888|  United Kingdom|\n",
      "|        581475|2024-05-10 00:00:00|     22581|10.55|      48|    13069.0|Wood Stocking Chr...| Michael Holt|506.40000000000003|23177.928000000004|  United Kingdom|\n",
      "+--------------+-------------------+----------+-----+--------+-----------+--------------------+-------------+------------------+------------------+----------------+\n",
      "only showing top 20 rows\n",
      "\n"
     ]
    }
   ],
   "source": [
    "dt_clean_v2 = dt_clean_country.drop(\"customer_country\").withColumnRenamed(\"customer_country_update\",\"customer_country\")\n",
    "dt_clean_v2.show()"
   ]
  },
  {
   "cell_type": "code",
   "execution_count": 58,
   "id": "cbc13741-2504-4885-89ca-e39722c19056",
   "metadata": {},
   "outputs": [
    {
     "name": "stdout",
     "output_type": "stream",
     "text": [
      "+----------+\n",
      "|product_id|\n",
      "+----------+\n",
      "|     22485|\n",
      "|     22596|\n",
      "|     23235|\n",
      "|     23272|\n",
      "|     23239|\n",
      "|     21705|\n",
      "|     22118|\n",
      "|     22119|\n",
      "|     22217|\n",
      "|     22216|\n",
      "|     22380|\n",
      "|     22442|\n",
      "|     22664|\n",
      "|     22721|\n",
      "|     22723|\n",
      "|     22785|\n",
      "|     22955|\n",
      "|     23141|\n",
      "|     22956|\n",
      "|     22581|\n",
      "|     23198|\n",
      "|     23197|\n",
      "|     23184|\n",
      "|     23168|\n",
      "|     23167|\n",
      "|     23166|\n",
      "|     23165|\n",
      "|     23004|\n",
      "|     23002|\n",
      "|     23000|\n",
      "|     22998|\n",
      "|     22994|\n",
      "|     22835|\n",
      "|     22730|\n",
      "|     22728|\n",
      "|     22727|\n",
      "|     22726|\n",
      "|     22720|\n",
      "|     22693|\n",
      "|     22670|\n",
      "|     22667|\n",
      "|     22666|\n",
      "|     22631|\n",
      "|     22628|\n",
      "|     22467|\n",
      "|     22197|\n",
      "|     22114|\n",
      "|     22112|\n",
      "|     21908|\n",
      "|     21874|\n",
      "|     21872|\n",
      "|     21871|\n",
      "|     21533|\n",
      "|     21481|\n",
      "|     21479|\n",
      "|     21248|\n",
      "|     21216|\n",
      "|     21181|\n",
      "|     21175|\n",
      "|     21169|\n",
      "|     21162|\n",
      "|     21159|\n",
      "|     21158|\n",
      "|     21154|\n",
      "|     16016|\n",
      "|     16014|\n",
      "|     16008|\n",
      "|     85152|\n",
      "|    84596F|\n",
      "|    84596B|\n",
      "|    84510A|\n",
      "|     82600|\n",
      "|     82581|\n",
      "|     72232|\n",
      "|    47559B|\n",
      "|    47504H|\n",
      "|     23493|\n",
      "|     23430|\n",
      "|     23429|\n",
      "|     23428|\n",
      "|     23358|\n",
      "|     23293|\n",
      "|     23243|\n",
      "|     23240|\n",
      "|     48111|\n",
      "|     22464|\n",
      "|     20982|\n",
      "|     20981|\n",
      "|     23424|\n",
      "|     23338|\n",
      "|    84970L|\n",
      "|     22457|\n",
      "|     22469|\n",
      "|     22909|\n",
      "|     84947|\n",
      "|     23503|\n",
      "|     23445|\n",
      "|     23530|\n",
      "|    84997C|\n",
      "|    84997D|\n",
      "+----------+\n",
      "only showing top 100 rows\n",
      "\n"
     ]
    }
   ],
   "source": [
    "#Semantic Anomalies\n",
    "#Integrity constraints\n",
    "dt_clean_v2.select(\"product_id\").show(100)"
   ]
  },
  {
   "cell_type": "code",
   "execution_count": 60,
   "id": "40609ceb-6adb-479d-b32b-0c1ee8a66b4e",
   "metadata": {},
   "outputs": [
    {
     "data": {
      "text/plain": [
       "536350"
      ]
     },
     "execution_count": 60,
     "metadata": {},
     "output_type": "execute_result"
    }
   ],
   "source": [
    "dt_clean_v2.select(\"product_id\").count()"
   ]
  },
  {
   "cell_type": "code",
   "execution_count": 65,
   "id": "b229984f-3828-4d2c-8716-29c65db37d04",
   "metadata": {},
   "outputs": [
    {
     "data": {
      "text/plain": [
       "0.9050601286473385"
      ]
     },
     "execution_count": 65,
     "metadata": {},
     "output_type": "execute_result"
    }
   ],
   "source": [
    "#แก้ไข Product id ที่ผิดปกติ\n",
    "#ตรวจสอบจำนวนที่ผิดพลาด \n",
    "dt_clean_v2.where(dt_clean_v2[\"product_id\"].rlike(\"^.{5}$\")).count()/dt_clean_v2.count()"
   ]
  },
  {
   "cell_type": "code",
   "execution_count": 70,
   "id": "de270982-7c81-45e4-b4ba-b6769406380e",
   "metadata": {},
   "outputs": [],
   "source": [
    "#แยกข้อมูลที่ถูกและที่ผิด\n",
    "dt_correct_product = dt_clean_v2.filter(dt_clean_v2[\"product_id\"].rlike(\"^{5}$\"))\n",
    "dt_incorrect_product = dt_clean_v2.subtract(dt_correct_product)"
   ]
  },
  {
   "cell_type": "code",
   "execution_count": 78,
   "id": "6cbd15dd-fe4a-428a-ace2-4cfc8e5d79ce",
   "metadata": {},
   "outputs": [
    {
     "name": "stdout",
     "output_type": "stream",
     "text": [
      "+----------+----------------------------------+\n",
      "|product_id|product_name                      |\n",
      "+----------+----------------------------------+\n",
      "|84596F    |Small Marshmallows Pink Bowl      |\n",
      "|84596B    |Small Dolly Mix Design Orange Bowl|\n",
      "|84596B    |Small Dolly Mix Design Orange Bowl|\n",
      "|84596F    |Small Marshmallows Pink Bowl      |\n",
      "|84596B    |Small Dolly Mix Design Orange Bowl|\n",
      "|84596F    |Small Marshmallows Pink Bowl      |\n",
      "|84596G    |Small Chocolates Pink Bowl        |\n",
      "|84596B    |Small Dolly Mix Design Orange Bowl|\n",
      "|84596B    |Small Dolly Mix Design Orange Bowl|\n",
      "|84596G    |Small Chocolates Pink Bowl        |\n",
      "|84596F    |Small Marshmallows Pink Bowl      |\n",
      "|84596B    |Small Dolly Mix Design Orange Bowl|\n",
      "|84596B    |Small Dolly Mix Design Orange Bowl|\n",
      "|84596F    |Small Marshmallows Pink Bowl      |\n",
      "|84596F    |Small Marshmallows Pink Bowl      |\n",
      "|84596B    |Small Dolly Mix Design Orange Bowl|\n",
      "|84596B    |Small Dolly Mix Design Orange Bowl|\n",
      "|84596F    |Small Marshmallows Pink Bowl      |\n",
      "|84596F    |Small Marshmallows Pink Bowl      |\n",
      "|84596B    |Small Dolly Mix Design Orange Bowl|\n",
      "+----------+----------------------------------+\n",
      "only showing top 20 rows\n",
      "\n"
     ]
    }
   ],
   "source": [
    "#Recheck Product id ที่ผิดปกติสามารถแก้ไขได้ไหม\n",
    "dt_clean_v2.where(dt_clean_v2[\"product_id\"].startswith(\"84596\")).select(\"product_id\",\"product_name\").show(truncate=False)"
   ]
  },
  {
   "cell_type": "code",
   "execution_count": 85,
   "id": "503b5cbf-9862-49a6-96ca-052c14bf321a",
   "metadata": {},
   "outputs": [
    {
     "name": "stdout",
     "output_type": "stream",
     "text": [
      "+--------------+----+----------+-----+--------+-----------+------------+-------------+------------+----------+----------------+\n",
      "|transaction_id|date|product_id|price|quantity|customer_id|product_name|customer_name|total_amount|thb_amount|customer_country|\n",
      "+--------------+----+----------+-----+--------+-----------+------------+-------------+------------+----------+----------------+\n",
      "+--------------+----+----------+-----+--------+-----------+------------+-------------+------------+----------+----------------+\n",
      "\n"
     ]
    }
   ],
   "source": [
    "#แก้ไขโดยตัด Product ID ให้เลือกแค่ 5 ตำแหน่งแรก\n",
    "dt_clean_v3 = dt_clean_v2.withColumn(\"product_id\",functions.substring(\"product_id\",1,5))\n",
    "#Recheck\n",
    "dt_correct_product = dt_clean_v3.filter(dt_clean_v3[\"product_id\"].rlike(\"^[0-9]{5}$\"))\n",
    "dt_incorrect_product = dt_clean_v3.subtract(dt_correct_product)\n",
    "dt_incorrect_product.show()"
   ]
  },
  {
   "cell_type": "markdown",
   "id": "d11fe603-3cc2-492f-bd58-61481be958c8",
   "metadata": {},
   "source": [
    "Check Missing Value"
   ]
  },
  {
   "cell_type": "code",
   "execution_count": 88,
   "id": "fce5a6ee-1295-40f3-adae-8ef130759ffe",
   "metadata": {},
   "outputs": [
    {
     "name": "stdout",
     "output_type": "stream",
     "text": [
      "+-------+--------------+----------+------+--------+-----------+------------+-------------+------------+----------+----------------+\n",
      "|summary|transaction_id|product_id| price|quantity|customer_id|product_name|customer_name|total_amount|thb_amount|customer_country|\n",
      "+-------+--------------+----------+------+--------+-----------+------------+-------------+------------+----------+----------------+\n",
      "|  count|        536350|    536350|536350|  536350|     536295|      536350|       536350|      536350|    536350|          536350|\n",
      "+-------+--------------+----------+------+--------+-----------+------------+-------------+------------+----------+----------------+\n",
      "\n"
     ]
    }
   ],
   "source": [
    "dt_clean_v3.summary(\"count\").show()"
   ]
  },
  {
   "cell_type": "code",
   "execution_count": 90,
   "id": "551fae45-547e-4edf-80a8-08f64cee2d5f",
   "metadata": {},
   "outputs": [
    {
     "name": "stdout",
     "output_type": "stream",
     "text": [
      "+--------------+-------------------+----------+-----+--------+-----------+--------------------+-------------+-------------------+-------------------+----------------+\n",
      "|transaction_id|               date|product_id|price|quantity|customer_id|        product_name|customer_name|       total_amount|         thb_amount|customer_country|\n",
      "+--------------+-------------------+----------+-----+--------+-----------+--------------------+-------------+-------------------+-------------------+----------------+\n",
      "|       C581406|2024-05-09 00:00:00|     46000| 6.19|    -240|       NULL|Polyester Filler ...| Allen Morgan|-1485.6000000000001|         -68397.024|  United Kingdom|\n",
      "|       C581406|2024-05-09 00:00:00|     46000| 6.19|    -300|       NULL|Polyester Filler ...| Allen Morgan|-1857.0000000000002| -85496.28000000001|  United Kingdom|\n",
      "|       C575153|2024-04-09 00:00:00|     22947|44.25|      -1|       NULL|Wooden Advent Cal...| Allen Morgan|             -44.25|-2036.4734999999998|  United Kingdom|\n",
      "|       C574288|2024-04-04 00:00:00|     22178|25.37|      -1|       NULL|Victorian Glass H...| Allen Morgan|             -25.37|        -1177.21874|  United Kingdom|\n",
      "|       C573180|2024-03-29 00:00:00|     23048| 14.5|      -1|       NULL|Set Of 10 Lantern...| Allen Morgan|              -14.5|           -665.463|  United Kingdom|\n",
      "|       C569495|2024-03-05 00:00:00|     21843|21.47|      -1|       NULL|Red Retrospot Cak...| Allen Morgan|             -21.47| -976.3911899999998|  United Kingdom|\n",
      "|       C567518|2024-02-20 00:00:00|     22846|27.62|      -1|       NULL|Bread Bin Diner S...| Allen Morgan|             -27.62|-1255.4947200000001|  United Kingdom|\n",
      "|       C567518|2024-02-20 00:00:00|     21871|11.94|     -12|       NULL| Save The Planet Mug| Allen Morgan|            -143.28|-6512.9356800000005|  United Kingdom|\n",
      "|       C563015|2024-01-11 00:00:00|     46000|10.25|    -160|       NULL|Polyester Filler ...| Allen Morgan|            -1640.0|          -73367.04|  United Kingdom|\n",
      "|       C563015|2024-01-11 00:00:00|     46000|10.25|    -220|       NULL|Polyester Filler ...| Allen Morgan|            -2255.0|         -100879.68|  United Kingdom|\n",
      "|       C562617|2024-01-08 00:00:00|     23243|15.32|      -2|       NULL|Set Of Tea Coffee...| Allen Morgan|             -30.64|         -1365.6248|  United Kingdom|\n",
      "|       C561966|2024-01-01 00:00:00|     22371|14.48|      -1|       NULL|Airline Bag Vinta...| Allen Morgan|             -14.48|         -633.25384|  United Kingdom|\n",
      "|       C562030|2024-01-01 00:00:00|     84595|13.62|      -1|       NULL|Large Tortilla De...| Allen Morgan|             -13.62| -595.6434599999999|  United Kingdom|\n",
      "|       C561239|2023-12-26 00:00:00|     22427|16.35|      -1|       NULL|Enamel Flower Jug...| Allen Morgan|             -16.35|          -719.0076|  United Kingdom|\n",
      "|       C561239|2023-12-26 00:00:00|     22426|14.09|      -1|       NULL|Enamel Wash Bowl ...| Allen Morgan|             -14.09|         -619.62184|  United Kingdom|\n",
      "|       C561239|2023-12-26 00:00:00|     84755|10.92|      -4|       NULL|Colour Glass T-Li...| Allen Morgan|             -43.68|        -1920.87168|  United Kingdom|\n",
      "|       C559949|2023-12-14 00:00:00|     22699|13.27|      -2|       NULL|Roses Regency Tea...| Allen Morgan|             -26.54|-1182.1181399999998|  United Kingdom|\n",
      "|       C559296|2023-12-07 00:00:00|     23001|10.25|    -200|       NULL|Travel Card Walle...| Allen Morgan|            -2050.0|          -90669.45|  United Kingdom|\n",
      "|       C559296|2023-12-07 00:00:00|     22616|10.25|    -204|       NULL|Pack Of 12 London...| Allen Morgan|            -2091.0| -92482.83899999999|  United Kingdom|\n",
      "|       C559296|2023-12-07 00:00:00|     23298|10.25|    -170|       NULL|      Spotty Bunting| Allen Morgan|            -1742.5|        -77069.0325|  United Kingdom|\n",
      "+--------------+-------------------+----------+-----+--------+-----------+--------------------+-------------+-------------------+-------------------+----------------+\n",
      "only showing top 20 rows\n",
      "\n"
     ]
    }
   ],
   "source": [
    "dt_clean_v3.where(dt_clean_v3.customer_id.isNull()).show()"
   ]
  },
  {
   "cell_type": "code",
   "execution_count": 93,
   "id": "363f6c0f-2ae1-4944-ac91-0d1d36e0eb48",
   "metadata": {},
   "outputs": [
    {
     "name": "stdout",
     "output_type": "stream",
     "text": [
      "+-----------+\n",
      "|customer_id|\n",
      "+-----------+\n",
      "|    17884.0|\n",
      "|    16561.0|\n",
      "|    13956.0|\n",
      "|    14452.0|\n",
      "|    16596.0|\n",
      "|    14768.0|\n",
      "|    13094.0|\n",
      "|    14285.0|\n",
      "|    16916.0|\n",
      "|    17633.0|\n",
      "|    13607.0|\n",
      "|    13918.0|\n",
      "|    14473.0|\n",
      "|    16629.0|\n",
      "|    12671.0|\n",
      "|    14024.0|\n",
      "|    17267.0|\n",
      "|    15776.0|\n",
      "|    12493.0|\n",
      "|    13533.0|\n",
      "+-----------+\n",
      "only showing top 20 rows\n",
      "\n"
     ]
    }
   ],
   "source": [
    "#Chech normal customer_id\n",
    "dt_clean_v3.select(\"customer_id\").distinct().show()"
   ]
  },
  {
   "cell_type": "code",
   "execution_count": 101,
   "id": "098263b1-ef0e-428a-9dda-cd90e86307aa",
   "metadata": {},
   "outputs": [
    {
     "name": "stdout",
     "output_type": "stream",
     "text": [
      "+--------------+----+----------+-----+--------+-----------+------------+-------------+------------+----------+----------------+\n",
      "|transaction_id|date|product_id|price|quantity|customer_id|product_name|customer_name|total_amount|thb_amount|customer_country|\n",
      "+--------------+----+----------+-----+--------+-----------+------------+-------------+------------+----------+----------------+\n",
      "+--------------+----+----------+-----+--------+-----------+------------+-------------+------------+----------+----------------+\n",
      "\n"
     ]
    }
   ],
   "source": [
    "#Replace Null ด้วย 00000\n",
    "dt_clean_v4 = dt_clean_v3.withColumn(\"customer_id\",when(dt_clean_v3[\"customer_id\"].isNull(),00000).otherwise(dt_clean_v3[\"customer_id\"]))\n",
    "#Recheck\n",
    "dt_clean_v4.where(dt_clean_v4.customer_id.isNull()).show()"
   ]
  },
  {
   "cell_type": "markdown",
   "id": "2bc07423-9e6b-45cd-abcf-ebfa8f2c4f7b",
   "metadata": {},
   "source": [
    "Outlier เช็คค่าสูงกว่า หรือต่ำกว่าปกติ "
   ]
  },
  {
   "cell_type": "code",
   "execution_count": 103,
   "id": "1b385070-7b1c-403b-a34e-5a2376addd9c",
   "metadata": {},
   "outputs": [
    {
     "data": {
      "text/plain": [
       "<Axes: xlabel='price'>"
      ]
     },
     "execution_count": 103,
     "metadata": {},
     "output_type": "execute_result"
    },
    {
     "data": {
      "image/png": "[encoded data removed]",
      "text/plain": [
       "<Figure size 640x480 with 1 Axes>"
      ]
     },
     "metadata": {},
     "output_type": "display_data"
    }
   ],
   "source": [
    "dt_pd = dt_clean_v4.toPandas()\n",
    "sns.boxplot(x = dt_pd[\"price\"])"
   ]
  },
  {
   "cell_type": "code",
   "execution_count": 104,
   "id": "5574e94f-579d-425e-99c1-0ac53a7193ea",
   "metadata": {},
   "outputs": [
    {
     "name": "stdout",
     "output_type": "stream",
     "text": [
      "+----------+--------------------+------+\n",
      "|product_id|        product_name| price|\n",
      "+----------+--------------------+------+\n",
      "|     22656|Vintage Blue Kitc...| 594.5|\n",
      "|     22656|Vintage Blue Kitc...|660.62|\n",
      "|     22655|Vintage Red Kitch...|660.62|\n",
      "|     22655|Vintage Red Kitch...| 594.5|\n",
      "+----------+--------------------+------+\n",
      "\n"
     ]
    }
   ],
   "source": [
    "dt_clean_v4.where(dt_clean_v4.price > 500).select(\"product_id\",\"product_name\",\"price\").distinct().show()"
   ]
  },
  {
   "cell_type": "markdown",
   "id": "a592ea97-bda6-4dc6-8600-226d2cd0779a",
   "metadata": {},
   "source": [
    "Recheck เป็นราคาจริง ไม่ต้องแก้ไข\n",
    "\n",
    "Parquet Export"
   ]
  },
  {
   "cell_type": "code",
   "execution_count": 106,
   "id": "99792fe6-a89d-44e4-9a54-210efaa6d97d",
   "metadata": {},
   "outputs": [],
   "source": [
    "dt_clean_v4.write.parquet(\"data_output/clean_data_output.parquet\")"
   ]
  },
  {
   "cell_type": "code",
   "execution_count": 107,
   "id": "bfb8121a-50bd-40c1-b8db-4318ac344950",
   "metadata": {},
   "outputs": [
    {
     "name": "stdout",
     "output_type": "stream",
     "text": [
      "+--------------+-------------------+----------+-----+--------+-----------+--------------------+-------------+------------------+------------------+----------------+\n",
      "|transaction_id|               date|product_id|price|quantity|customer_id|        product_name|customer_name|      total_amount|        thb_amount|customer_country|\n",
      "+--------------+-------------------+----------+-----+--------+-----------+--------------------+-------------+------------------+------------------+----------------+\n",
      "|        581482|2024-05-10 00:00:00|     22485|21.47|      12|    17490.0|Set Of 2 Wooden M...| Sara Griffin|            257.64|        11792.1828|  United Kingdom|\n",
      "|        581475|2024-05-10 00:00:00|     22596|10.65|      36|    13069.0|Christmas Star Wi...| Michael Holt|383.40000000000003|17548.218000000004|  United Kingdom|\n",
      "|        581475|2024-05-10 00:00:00|     23235|11.53|      12|    13069.0|Storage Tin Vinta...| Michael Holt|138.35999999999999|         6332.7372|  United Kingdom|\n",
      "|        581475|2024-05-10 00:00:00|     23272|10.65|      12|    13069.0|Tree T-Light Hold...| Michael Holt|127.80000000000001| 5849.406000000001|  United Kingdom|\n",
      "|        581475|2024-05-10 00:00:00|     23239|11.94|       6|    13069.0|Set Of 4 Knick Kn...| Michael Holt|             71.64|3278.9628000000002|  United Kingdom|\n",
      "|        581475|2024-05-10 00:00:00|     21705|10.65|      24|    13069.0|Bag 500g Swirly M...| Michael Holt|255.60000000000002|11698.812000000002|  United Kingdom|\n",
      "|        581475|2024-05-10 00:00:00|     22118|11.53|      18|    13069.0|Joy Wooden Block ...| Michael Holt|            207.54| 9499.105800000001|  United Kingdom|\n",
      "|        581475|2024-05-10 00:00:00|     22119|12.25|      12|    13069.0|Peace Wooden Bloc...| Michael Holt|             147.0|6728.1900000000005|  United Kingdom|\n",
      "|        581475|2024-05-10 00:00:00|     22217|10.65|      12|    13069.0|T-Light Holder Ha...| Michael Holt|127.80000000000001| 5849.406000000001|  United Kingdom|\n",
      "|        581475|2024-05-10 00:00:00|     22216|10.55|      24|    13069.0|T-Light Holder Wh...| Michael Holt|253.20000000000002|11588.964000000002|  United Kingdom|\n",
      "|        581475|2024-05-10 00:00:00|     22380|11.06|      20|    13069.0|   Toy Tidy Spaceboy| Michael Holt|221.20000000000002|10124.324000000002|  United Kingdom|\n",
      "|        581475|2024-05-10 00:00:00|     22442|12.25|      12|    13069.0|Grow Your Own Flo...| Michael Holt|             147.0|6728.1900000000005|  United Kingdom|\n",
      "|        581475|2024-05-10 00:00:00|     22664|11.06|      20|    13069.0|Toy Tidy Dolly Gi...| Michael Holt|221.20000000000002|10124.324000000002|  United Kingdom|\n",
      "|        581475|2024-05-10 00:00:00|     22721|12.25|      12|    13069.0|Set Of 3 Cake Tin...| Michael Holt|             147.0|6728.1900000000005|  United Kingdom|\n",
      "|        581475|2024-05-10 00:00:00|     22723|11.53|      12|    13069.0|Set Of 6 Herb Tin...| Michael Holt|138.35999999999999|         6332.7372|  United Kingdom|\n",
      "|        581475|2024-05-10 00:00:00|     22785|11.53|      12|    13069.0|Squarecushion Cov...| Michael Holt|138.35999999999999|         6332.7372|  United Kingdom|\n",
      "|        581475|2024-05-10 00:00:00|     22955|11.06|      24|    13069.0|36 Foil Star Cake...| Michael Holt|            265.44|        12149.1888|  United Kingdom|\n",
      "|        581475|2024-05-10 00:00:00|     23141|11.06|      12|    13069.0|Triple Wire Hook ...| Michael Holt|            132.72|         6074.5944|  United Kingdom|\n",
      "|        581475|2024-05-10 00:00:00|     22956|11.06|      24|    13069.0|36 Foil Heart Cak...| Michael Holt|            265.44|        12149.1888|  United Kingdom|\n",
      "|        581475|2024-05-10 00:00:00|     22581|10.55|      48|    13069.0|Wood Stocking Chr...| Michael Holt|506.40000000000003|23177.928000000004|  United Kingdom|\n",
      "+--------------+-------------------+----------+-----+--------+-----------+--------------------+-------------+------------------+------------------+----------------+\n",
      "only showing top 20 rows\n",
      "\n"
     ]
    }
   ],
   "source": [
    "dt2 = spark.read.parquet(\"data_output/clean_data_output.parquet\")\n",
    "dt2.show()"
   ]
  }
 ],
 "metadata": {
  "kernelspec": {
   "display_name": "Python 3 (ipykernel)",
   "language": "python",
   "name": "python3"
  },
  "language_info": {
   "codemirror_mode": {
    "name": "ipython",
    "version": 3
   },
   "file_extension": ".py",
   "mimetype": "text/x-python",
   "name": "python",
   "nbconvert_exporter": "python",
   "pygments_lexer": "ipython3",
   "version": "3.11.6"
  }
 },
 "nbformat": 4,
 "nbformat_minor": 5
}
